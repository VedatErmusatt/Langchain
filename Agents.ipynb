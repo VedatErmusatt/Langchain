{
 "cells": [
  {
   "cell_type": "markdown",
   "id": "97f34f39",
   "metadata": {},
   "source": [
    "Agentlar çevresinden bilgi alıp (girdi), bu bilgiye göre karar verip (işlem), çevreye bir tepki (çıktı) verebilen bir varlıktır.\n",
    "Bir AI agent ise, yapay zekâ algoritmalarıyla çalışan bir ajandır. Yani:\n",
    "\n",
    "- Durumu analiz eder (örneğin: doğal dil anlama, görüntü tanıma).\n",
    "\n",
    "- Kendi başına karar alır.\n",
    "\n",
    "- Belirli görevleri yerine getirir (örneğin: web'den bilgi toplar, e-posta gönderir, veritabanına veri yazar)."
   ]
  },
  {
   "cell_type": "code",
   "execution_count": 9,
   "id": "9ead1eab",
   "metadata": {},
   "outputs": [
    {
     "data": {
      "text/plain": [
       "True"
      ]
     },
     "execution_count": 9,
     "metadata": {},
     "output_type": "execute_result"
    }
   ],
   "source": [
    "from dotenv import load_dotenv\n",
    "load_dotenv()"
   ]
  },
  {
   "cell_type": "code",
   "execution_count": 2,
   "id": "9401cac8",
   "metadata": {},
   "outputs": [
    {
     "name": "stderr",
     "output_type": "stream",
     "text": [
      "USER_AGENT environment variable not set, consider setting it to identify your requests.\n"
     ]
    }
   ],
   "source": [
    "from langchain_community.document_loaders import WebBaseLoader\n",
    "\n",
    "loader = WebBaseLoader(\"https://blog.langchain.dev/langgraph-platform-ga/\")\n",
    "\n",
    "docs = loader.load()"
   ]
  },
  {
   "cell_type": "code",
   "execution_count": 3,
   "id": "fbe305f4",
   "metadata": {},
   "outputs": [],
   "source": [
    "# Sayısal temsillere çevir\n",
    "from langchain_google_genai import GoogleGenerativeAIEmbeddings\n",
    "\n",
    "embeddings = GoogleGenerativeAIEmbeddings(model=\"models/embedding-001\")\n"
   ]
  },
  {
   "cell_type": "code",
   "execution_count": 4,
   "id": "ed200ffb",
   "metadata": {},
   "outputs": [],
   "source": [
    "from langchain.text_splitter import RecursiveCharacterTextSplitter \n",
    "\n",
    "text_splitter = RecursiveCharacterTextSplitter()\n",
    "documents = text_splitter.split_documents(docs)"
   ]
  },
  {
   "cell_type": "code",
   "execution_count": null,
   "id": "01c43bab",
   "metadata": {},
   "outputs": [],
   "source": [
    "# Sayısal temsillere çevrildi\n",
    "from langchain_community.vectorstores import FAISS\n",
    "\n",
    "vector = FAISS.from_documents(documents, embeddings)"
   ]
  },
  {
   "cell_type": "code",
   "execution_count": 6,
   "id": "b61e1d60",
   "metadata": {},
   "outputs": [],
   "source": [
    "retriever = vector.as_retriever()"
   ]
  },
  {
   "cell_type": "code",
   "execution_count": 7,
   "id": "8936cd54",
   "metadata": {},
   "outputs": [
    {
     "name": "stderr",
     "output_type": "stream",
     "text": [
      "C:\\Users\\Vedat\\AppData\\Local\\Temp\\ipykernel_22788\\916090378.py:1: LangChainDeprecationWarning: The method `BaseRetriever.get_relevant_documents` was deprecated in langchain-core 0.1.46 and will be removed in 1.0. Use :meth:`~invoke` instead.\n",
      "  retriever.get_relevant_documents(\n"
     ]
    },
    {
     "data": {
      "text/plain": [
       "Document(id='2a1011f9-cb0d-4edf-8d6e-cd20e2d735bc', metadata={'source': 'https://blog.langchain.dev/langgraph-platform-ga/', 'title': 'LangGraph Platform is now Generally Available: Deploy & manage long-running, stateful Agents', 'description': 'LangGraph Platform, our infrastructure for deploying and managing agents at scale, is now generally available. Learn how to deploy', 'language': 'en'}, page_content='management console makes it easier to enforce consistency, monitor behavior, and ship updates safely — all without needing to re-deploy or touch code every time. You can:Discover available agents in the agent registryCreate different versions of your agent (“assistants”) in LangGraph platform, allowing you to reuse common agent architectures\\xa0Leverage other agents as “Remote Graphs”, allowing you to create multi agent architectures that run in a distributed mannerFor companies like Qualtrics, centralizing agent management with LangGraph Platform has been critical to driving efficiency:\\xa0\"The future of agentic AI is multi-vendor and AI agents must be built in an ecosystem. By using LangGraph Platform to build and manage our AI agents - Experience Agents - Qualtrics is able to design, deploy, and manage complex generative AI agent workflows with efficiency, speed, and scale.\" – Phil McKennan, VP of Strategy and Partnerships at QualtricsTry LangGraph Platform todayLangGraph Platform reduces time to production and enables better application experiences with a runtime that suits the workload and improves DevEx with well crafted APIs, built-in memory, and a Studio development environment. Today, LangGraph Platform is generally available.\\xa0To get started, choose the deployment option that fits your team’s needs:\\xa0Cloud (SaaS): Fastest way to get started, fully managed and easy deployment from within LangSmith. Available on our Plus plan and Enterprise plan.\\xa0To get started, read the docs (Plus plan) or\\xa0contact sales (Enterprise).Hybrid: SaaS control plane with self-hosted data plane — ideal for teams with sensitive data but still want more of a managed service. Available only on the Enterprise plan.\\xa0To get started, contact salesFully Self-Hosted: Run the entire platform within your own infrastructure. No data leaves your VPC. Available on the Enterprise plan. To get started, contact sales.If you want to try out a basic version of our LangGraph server in your environment, you can also self-host on our Developer plan and get up to 100k nodes executed per month for free – great to give you exposure to LangGraph Platform and run hobbyist projects on your infra. To get started on the Developer tier, read the docs.Learn more about deployment options here and view pricing details.\\xa0LangGraph Platform is the easiest way to develop, deploy, and manage long-running, stateful agents. It can be used independently from LangChain’s other products – LangChain (integrations), LangGraph (agent orchestration), and LangSmith (Evals and Observability), or stack together to provide an easy transition from the build phase to production.To learn more, visit the LangGraph Platform webpage. We can’t wait to see how far you can run with your agents.')"
      ]
     },
     "execution_count": 7,
     "metadata": {},
     "output_type": "execute_result"
    }
   ],
   "source": [
    "retriever.get_relevant_documents(\n",
    "    \"What is LangGraph?\"\n",
    ")[0]"
   ]
  },
  {
   "cell_type": "code",
   "execution_count": 8,
   "id": "f55d634c",
   "metadata": {},
   "outputs": [],
   "source": [
    "# Creating Retriever Tool\n",
    "from langchain.tools.retriever import create_retriever_tool\n",
    "\n",
    "retriever_tool = create_retriever_tool(\n",
    "    retriever, \n",
    "    \"langgraph_search\",\n",
    "    \"Search for information about LangGraph. For any question about LangGraph, you must use this tool!\"\n",
    ")"
   ]
  },
  {
   "cell_type": "code",
   "execution_count": 10,
   "id": "43127e30",
   "metadata": {},
   "outputs": [],
   "source": [
    "# Creating Search Tool(Tavily) = Özellikle agentlar için oluşturulmuş bir tool\n",
    "from langchain_community.tools.tavily_search import TavilySearchResults \n",
    "\n",
    "search = TavilySearchResults()\n"
   ]
  },
  {
   "cell_type": "code",
   "execution_count": 11,
   "id": "daddfc1f",
   "metadata": {},
   "outputs": [
    {
     "data": {
      "text/plain": [
       "[{'title': 'İstanbul weather in May 2025 ⋆ İstanbul temperature in May ...',\n",
       "  'url': 'https://www.meteoprog.com/weather/Istanbul/month/may/',\n",
       "  'content': 'İstanbul (Turkey) weather in May 2025 ☀️ Accurate weather forecast for İstanbul in ... 21 May. +21°+15°. 22 May. +21°+16°. 23 May. +22°+16°. 24 May. +21°+16°. 25',\n",
       "  'score': 0.9163571},\n",
       " {'title': 'Istanbul weather in May 2025 - Weather25.com',\n",
       "  'url': 'https://www.weather25.com/europe/turkey/istanbul?page=month&month=May',\n",
       "  'content': 'The temperatures in Istanbul in May are comfortable with low of 15°C and and high up to 22°C.\\n\\nYou can expect about 3 to 8 days of rain in Istanbul during the month of May. It’s a good idea to bring along your umbrella so that you don’t get caught in poor weather.\\n\\nOur weather forecast can give you a great sense of what weather to expect in Istanbul in May 2025. [...] Istanbul weather in May 2025\\n\\nSun | Mon | Tue | Wed | Thu | Fri | Sat\\n |  |  |  | 112°/10° | 213°/10° | 317°/12°\\n416°/13° | 519°/13° | 622°/14° | 722°/16° | 819°/13° | 918°/12° | 1018°/12°\\n1119°/13° | 1220°/13° | 1320°/13° | 1420°/13° | 1523°/16° | 1623°/16° | 1721°/15°\\n1821°/15° | 1921°/15° | 2022°/16° | 2121°/15° | 2221°/15° | 2321°/15° | 2422°/15°\\n2521°/15° | 2622°/16° | 2722°/16° | 2823°/16° | 2922°/17° | 3024°/18° | 3125°/18°\\nThe average weather in Istanbul in May [...] October | 20°/16° | Good | 4 | 27 | 0 | 99mm\\nNovember | 16°/13° | Good | 4 | 26 | 0 | 65mm\\nDecember | 11°/8° | Bad | 7 | 22 | 1 | 100mm\\nWeather in Istanbul in May - FAQ',\n",
       "  'score': 0.8668671},\n",
       " {'title': 'Istanbul weather in May 2025 | Turkey: How hot?',\n",
       "  'url': 'https://www.weather2travel.com/turkey/istanbul/may/',\n",
       "  'content': 'Istanbul weather in May 2025 | Turkey: How hot?\\n\\n\\nWeather\\nDestinations\\nDeals\\nInspiration\\nInsights\\nSearch\\n\\n\\n\\n\\nHome\\nEurope / Mediterranean / Middle East\\nTurkey\\nIstanbul\\nWhere is hot in May?\\n\\nIstanbul weather in May 2025\\nExpect daytime maximum temperatures of 21°C in Istanbul, Turkey in May based on long-term weather averages. There are 10 hours of sunshine per day on average. [...] 21\\n21°C max day temperature\\n*   10\\n10 hours of sunshine per day\\n*   9\\n9 days with some rainfall\\n*   12\\n12°C min night temperature\\n*   14\\n14 hours of daylight per day\\n*   0\\nNo heat & humidity\\n*   35\\n35 mm of monthly rainfall\\n*   7\\n7 (High) UV index\\n*   15\\n15°C sea temperature\\n\\n\\nMore about Istanbul\\n\\n\\n\\nOverview\\n*   \\nBest time to visit\\n*   \\nWeather by month\\n*   \\n5-day weather forecast\\n*   \\nDestinations\\n*   \\nTravel advice\\n*   \\nDeals & discounts [...] Go to TUI deal >>\\nView all TUI offers\\nTUI deal finder\\nDestination  ▼\\nThe May weather guide for Turkey (Istanbul) shows long term weather averages processed from data supplied by CRU (University of East Anglia), the Met Office & the Netherlands Meteorological Institute. Find out more about our data sources.\\nMetric (°C / mm) \\xa0|\\xa0 Imperial (°F / inches)\\n\\nFacebook\\nTwitter\\nPinterest (1 share)\\n\\nBack to top\\nMore about Turkey',\n",
       "  'score': 0.85157084},\n",
       " {'title': 'Weather Istanbul in May 2025: Temperature & Climate',\n",
       "  'url': 'https://en.climate-data.org/asia/turkey/istanbul/istanbul-715086/t/may-5/',\n",
       "  'content': '9.9\\n\\n(49.9)\\n\\n14.6\\n\\n(58.2)\\n\\n78\\n\\n(3.1)\\n\\n8.1\\n\\n(46.6)\\n\\n6\\n\\n(42.8)\\n\\n10.2\\n\\n(50.3)\\n\\n107\\n\\n(4.2) [...] Min. Temperature °C (°F) | 3.8 °C(38.8) °F | 4.1 °C(39.4) °F | 5.5 °C(42) °F | 8.5 °C(47.4) °F | 13.4 °C(56.1) °F | 18.2 °C(64.7) °F | 20.9 °C(69.6) °F | 21.7 °C(71) °F | 18.3 °C(64.9) °F | 14 °C(57.3) °F | 9.9 °C(49.9) °F | 6 °C(42.8) °F\\nMax. Temperature °C (°F) | 8.2 °C(46.8) °F | 9 °C(48.2) °F | 11.4 °C(52.5) °F | 15.4 °C(59.7) °F | 20.3 °C(68.6) °F | 25 °C(77) °F | 27.7 °C(81.9) °F | 28 °C(82.4) °F | 24.1 °C(75.3) °F | 18.8 °C(65.9) °F | 14.6 °C(58.2) °F | 10.2 °C(50.3) °F [...] 19. May | 18 °C | 64 °F | 21 °C | 70 °F | 14 °C | 57 °F | 16 °C | 61 °F | 5.8 mm | 0.2 inch.\\n20. May | 18 °C | 64 °F | 21 °C | 70 °F | 14 °C | 57 °F | 16 °C | 61 °F | 6.4 mm | 0.3 inch.\\n21. May | 18 °C | 64 °F | 21 °C | 71 °F | 14 °C | 57 °F | 16 °C | 62 °F | 7.0 mm | 0.3 inch.\\n22. May | 19 °C | 66 °F | 22 °C | 72 °F | 15 °C | 59 °F | 17 °C | 62 °F | 6.4 mm | 0.3 inch.\\n23. May | 18 °C | 65 °F | 22 °C | 71 °F | 15 °C | 59 °F | 17 °C | 62 °F | 7.9 mm | 0.3 inch.',\n",
       "  'score': 0.85157084},\n",
       " {'title': 'Turkey weather in May 2025: How hot & sunny? - Weather2Travel.com',\n",
       "  'url': 'https://www.weather2travel.com/turkey/may/',\n",
       "  'content': '21°C maximum daytime temperature in May in Turkey (Istanbul) 21. 21°C max day temperature. 10 hours of sunshine per day (67% of daylight hours) in May in 10.',\n",
       "  'score': 0.81665546}]"
      ]
     },
     "execution_count": 11,
     "metadata": {},
     "output_type": "execute_result"
    }
   ],
   "source": [
    "# Deneme amaçlı\n",
    "search.invoke(\"What is the weather in İstanbul?\")"
   ]
  },
  {
   "cell_type": "code",
   "execution_count": 23,
   "id": "2e17a509",
   "metadata": {},
   "outputs": [],
   "source": [
    "tools = [retriever_tool, search]"
   ]
  },
  {
   "cell_type": "code",
   "execution_count": 24,
   "id": "6bde2076",
   "metadata": {},
   "outputs": [],
   "source": [
    "# Creating Agent\n",
    "from langchain_google_genai import ChatGoogleGenerativeAI\n",
    "model = ChatGoogleGenerativeAI(model=\"gemini-1.5-flash\", temperature=0)"
   ]
  },
  {
   "cell_type": "code",
   "execution_count": 25,
   "id": "9f4230af",
   "metadata": {},
   "outputs": [
    {
     "name": "stderr",
     "output_type": "stream",
     "text": [
      "c:\\Users\\Vedat\\anaconda3\\envs\\Langchain\\Lib\\site-packages\\langsmith\\client.py:272: LangSmithMissingAPIKeyWarning: API key must be provided when using hosted LangSmith API\n",
      "  warnings.warn(\n"
     ]
    }
   ],
   "source": [
    "from langchain import hub \n",
    "\n",
    "prompt = hub.pull(\"hwchase17/openai-functions-agent\")"
   ]
  },
  {
   "cell_type": "code",
   "execution_count": 26,
   "id": "fb49d45b",
   "metadata": {},
   "outputs": [
    {
     "data": {
      "text/plain": [
       "[SystemMessagePromptTemplate(prompt=PromptTemplate(input_variables=[], input_types={}, partial_variables={}, template='You are a helpful assistant'), additional_kwargs={}),\n",
       " MessagesPlaceholder(variable_name='chat_history', optional=True),\n",
       " HumanMessagePromptTemplate(prompt=PromptTemplate(input_variables=['input'], input_types={}, partial_variables={}, template='{input}'), additional_kwargs={}),\n",
       " MessagesPlaceholder(variable_name='agent_scratchpad')]"
      ]
     },
     "execution_count": 26,
     "metadata": {},
     "output_type": "execute_result"
    }
   ],
   "source": [
    "prompt.messages"
   ]
  },
  {
   "cell_type": "code",
   "execution_count": 31,
   "id": "963cdc66",
   "metadata": {},
   "outputs": [],
   "source": [
    "# Initializing the Agent\n",
    "from langchain.agents import create_tool_calling_agent\n",
    "\n",
    "agent = create_tool_calling_agent(model, tools, prompt)"
   ]
  },
  {
   "cell_type": "code",
   "execution_count": 32,
   "id": "4e2425c3",
   "metadata": {},
   "outputs": [],
   "source": [
    "# Agentin aksiyonları yapması için import edilecek modül\n",
    "from langchain.agents import AgentExecutor\n",
    "\n",
    "agent_executor = AgentExecutor(\n",
    "    agent=agent, tools=tools, verbose=True\n",
    ")\n"
   ]
  },
  {
   "cell_type": "code",
   "execution_count": 33,
   "id": "51bae76b",
   "metadata": {},
   "outputs": [
    {
     "name": "stdout",
     "output_type": "stream",
     "text": [
      "\n",
      "\n",
      "\u001b[1m> Entering new AgentExecutor chain...\u001b[0m\n",
      "\u001b[32;1m\u001b[1;3mHello! How can I help you today?\n",
      "\u001b[0m\n",
      "\n",
      "\u001b[1m> Finished chain.\u001b[0m\n"
     ]
    },
    {
     "data": {
      "text/plain": [
       "{'input': 'Hi!', 'output': 'Hello! How can I help you today?\\n'}"
      ]
     },
     "execution_count": 33,
     "metadata": {},
     "output_type": "execute_result"
    }
   ],
   "source": [
    "# Executing the Agent\n",
    "agent_executor.invoke(\n",
    "    {\n",
    "        \"input\":\"Hi!\"\n",
    "    }\n",
    ")"
   ]
  },
  {
   "cell_type": "code",
   "execution_count": 34,
   "id": "db5784bb",
   "metadata": {},
   "outputs": [
    {
     "name": "stdout",
     "output_type": "stream",
     "text": [
      "\n",
      "\n",
      "\u001b[1m> Entering new AgentExecutor chain...\u001b[0m\n",
      "\u001b[32;1m\u001b[1;3m\n",
      "Invoking: `tavily_search_results_json` with `{'query': 'weather in London'}`\n",
      "\n",
      "\n",
      "\u001b[0m\u001b[33;1m\u001b[1;3m[{'title': 'England weather forecast for Wednesday, 21 May 2025', 'url': 'https://www.weather25.com/europe/united-kingdom?page=date&date=21-5', 'content': \"| 00:00 | 03:00 | 06:00 | 09:00 | 12:00 | 15:00 | 18:00 | 21:00\\nTemperature | 13°C | 12°C | 13°C | 15°C | 20°C | 21°C | 18°C | 13°C\\nWeather | Overcast | Cloudy | Overcast | Cloudy | Partly cloudy | Partly cloudy | Sunny | Clear\\nChance of rain | 0% | 0% | 0% | 0% | 0% | 0% | 0% | 0%\\nPrecipitation | 0mm | 0mm | 0mm | 0mm | 0mm | 0mm | 0mm | 0mm\\nHumidity | 71% | 71% | 65% | 51% | 36% | 32% | 46% | 49%\\nWind | 2Km/h | 1Km/h | 5Km/h | 5Km/h | 10Km/h | 13Km/h | 13Km/h | 9Km/h [...] Wind Gust | 3Km/h | 2Km/h | 7Km/h | 6Km/h | 12Km/h | 15Km/h | 17Km/h | 14Km/h\\nWind Degree | 42° | 45° | 50° | 9° | 356° | 12° | 36° | 36°\\nWind Direction | NE | NE | NE | N | N | NNE | NE | NE\\nCloud Cover | 93% | 68% | 99% | 70% | 32% | 26% | 7% | 7%\\nUV Index | 0 | 0 | 0 | 1 | 4 | 4 | 1 | 0\\nVisibility | 10Km | 10Km | 10Km | 10Km | 10Km | 10Km | 10Km | 10Km\\nCheck England's weather in other day [...] For a more accurate weather forecast please select a city\\n\\nClothing recommendation for England\\n\\nSunrise and sunset time in England in Wednesday, 21 May 2025\\n\\nWhat time is the sunset and sunrise in England? The sun will rise at 05:00 and will set at 20:55. There will be 14.8 hours of sunlight in England.\", 'score': 0.9125066}, {'title': 'London Weather in May 2025 - Temperature & Climate - MakeMyTrip', 'url': 'https://www.makemytrip.com/tripideas/london/london-weather-in-may', 'content': \"In London, May presents a delightful opportunity to experience the city's springtime charm, as temperatures range from approximately 8.4°C to 16.7°C.\", 'score': 0.843393}, {'title': 'London weather in May 2025 - Weather25.com', 'url': 'https://www.weather25.com/europe/united-kingdom/london?page=month&month=May', 'content': 'The temperatures in London in May are quite cold with temperatures between 8°C and 16°C, warm clothes are a must.\\nYou can expect about 3 to 8 days of rain in London during the month of May. It’s a good idea to bring along your umbrella so that you don’t get caught in poor weather.\\nOur weather forecast can give you a great sense of what weather to expect in London in May 2025. [...] | Sun | Mon | Tue | Wed | Thu | Fri | Sat |\\n| --- | --- | --- | --- | --- | --- | --- |\\n| \\n | \\n| \\n| \\n| 1  17° /9° | 2  16° /8° | 3  15° /7° |\\n| 4  14° /7° | 5  13° /4° | 6  14° /4° | 7  16° /6° | 8  16° /6° | 9  18° /8° | 10  18° /8° |\\n| 11  20° /8° | 12  21° /9° | 13  18° /9° | 14  17° /8° | 15  16° /7° | 16  17° /7° | 17  16° /9° |\\n| 18  12° /10° | 19  20° /11° | 20  19° /10° | 21  18° /11° | 22  19° /11° | 23  16° /10° | 24  18° /10° | [...] | January | 7° / 3° | 8 | 19 | 4 | 81 mm | \\nAwful\\n| London in January |\\n| February | 8° / 3° | 8 | 16 | 4 | 75 mm | \\nAwful\\n| London in February |\\n| March | 10° / 4° | 5 | 24 | 2 | 56 mm | \\nBad\\n| London in March |\\n| April | 14° / 6° | 4 | 26 | 1 | 44 mm | \\nGood\\n| London in April |\\n| May | 16° / 8° | 6 | 26 | 0 | 66 mm | \\nGood\\n| London in May |\\n| June | 19° / 11° | 5 | 25 | 0 | 77 mm | \\nGood\\n| London in June |\\n| July | 22° / 14° | 5 | 26 | 0 | 70 mm | \\nGood\\n| London in July |', 'score': 0.82048416}, {'title': 'Weather in London in May 2025 - Detailed Forecast', 'url': 'https://www.easeweather.com/europe/united-kingdom/england/greater-london/london/may', 'content': '| 17 May | \\nPatchy rain possible\\n| 19° /8° | 2.5\\xa0mm | 4 |  |\\n| 18 May | \\nModerate or heavy rain shower\\n| 18° /10° | 3.4\\xa0mm | 4 |  |\\n| 19 May | \\nModerate or heavy rain shower\\n| 19° /9° | 2.2\\xa0mm | 5 |  |\\n| 20 May | \\nOvercast\\n| 16° /8° | 0.4\\xa0mm | 4 |  |\\n| 21 May | \\nPatchy rain possible\\n| 16° /8° | 2.4\\xa0mm | 4 |  |\\n| 22 May | \\nHeavy rain at times\\n| 19° /9° | 2.7\\xa0mm | 4 |  |\\n| 23 May | \\nHeavy rain at times\\n| 15° /8° | 2.5\\xa0mm | 4 |  |\\n| 24 May | \\nHeavy rain at times\\n| 17° /7° | 3.1\\xa0mm | 4 |  | [...] London experiences heavy rainfall in May, with over 20 rainy days and an average total precipitation 68\\xa0mm.\\n\\nMore\\n\\nNew! Chat with our AI weatherman - it’s amazing and free.\\n\\n\\n8\\nDry days\\n\\n22\\nRainy days\\n\\n0\\nSnow days\\n\\n16°/9°\\nTemperatures\\n\\n16\\xa0km/h\\nAvg max wind\\n\\n70 %\\nAvg humidity [...] Enjoy moderate daytime temperatures of up to 17° and cooler nights around 9°. Ideal for a range of outdoor activities, from hiking to city tours.\\nHow much rainfall should be expected in London during May?\\nModerate rainfall is anticipated in London during May, with a total of 68\\xa0mm spread over approximately 23 days. Considering plans for rainy days is advisable.\\nWhat are the typical wind conditions in London during May?', 'score': 0.8131201}, {'title': 'Weather in London in May 2025 (England)', 'url': 'https://world-weather.info/forecast/united_kingdom/london/may-2025/', 'content': \"Weather in large and nearby cities\\nCambridge+46°\\nLiverpool+48°\\nManchester+48°\\nOxford+46°\\nGuildford+48°\\nCrawley+50°\\nBracknell+48°\\nStevenage+45°\\nLuton+45°\\nHigh Wycombe+46°\\nChatham+48°\\nBasildon+48°\\nMaidenhead+48°\\nWatford+46°\\nDartford+50°\\nSlough+48°\\nBadgers Mount+50°\\nAldenham+46°\\nMinimum and maximum\\nworld's temperature today\\nGreenland\\nSiorapaluk\\nday\\n+18°F\\nnight\\n+7°F\\nChad\\nFaya-Largeau\\nday\\n+117°F\\nnight\\n+90°F\\nWeather forecast on your site Install London+50°\\nServices\\nSupport [...] Weather in London in May 2025 (England) - Detailed Weather Forecast for a Month\\n\\nAdd the current city\\nSearch\\n\\nWeather\\nArchive\\nWidgets\\n\\n°F\\n\\nWorld\\nUnited Kingdom\\nEngland\\nWeather in London\\n\\nWeather in London in May 2025\\nLondon Weather Forecast for May 2025 is based on long term prognosis and previous years' statistical data.\\n201520162017201820192020202120222023202420252026\\nJanFebMarAprMayJunJulAugSepOctNovDec\\nMay\\nStart Week On\\nSunday\\nMonday\\n\\nSun\\nMon\\nTue\\nWed\\nThu\\nFri\\n\\nSat\\n\\n\\n1 +75°+57° [...] 2 +72°+64°\\n3 +66°+54°\\n4 +54°+48°\\n5 +54°+45°\\n6 +54°+45°\\n7 +57°+46°\\n8 +57°+48°\\n9 +63°+48°\\n10 +68°+52°\\n11 +72°+54°\\n12 +72°+61°\\n13 +72°+61°\\n14 +70°+55°\\n15 +59°+52°\\n16 +66°+50°\\n17 +66°+54°\\n18 +63°+54°\\n19 +64°+54°\\n20 +68°+54°\\n21 +66°+52°\\n22 +64°+54°\\n23 +66°+54°\\n24 +50°+55°\\n25 +63°+54°\\n26 +64°+55°\\n27 +64°+54°\\n28 +64°+59°\\n29 +68°+52°\\n\\n30\\n+66°+57°\\n\\n\\n31\\n+66°+57°\\n\\n\\nExtended weather forecast in London\\nHourlyWeek10-Day14-Day30-DayYear\", 'score': 0.79580134}]\u001b[0m\u001b[32;1m\u001b[1;3mThe weather in London in May 2025 is expected to have temperatures ranging from 8°C to 16°C.  There will be some rain, with estimates varying from 3 to 8 days of rain, and a total of around 68mm of precipitation.  More detailed forecasts show a mix of overcast, cloudy, partly cloudy, sunny, and clear days, with some days having moderate or heavy rain showers.  Specific daily forecasts vary depending on the source.\n",
      "\u001b[0m\n",
      "\n",
      "\u001b[1m> Finished chain.\u001b[0m\n"
     ]
    },
    {
     "data": {
      "text/plain": [
       "{'input': 'What is the weather in London?',\n",
       " 'output': 'The weather in London in May 2025 is expected to have temperatures ranging from 8°C to 16°C.  There will be some rain, with estimates varying from 3 to 8 days of rain, and a total of around 68mm of precipitation.  More detailed forecasts show a mix of overcast, cloudy, partly cloudy, sunny, and clear days, with some days having moderate or heavy rain showers.  Specific daily forecasts vary depending on the source.\\n'}"
      ]
     },
     "execution_count": 34,
     "metadata": {},
     "output_type": "execute_result"
    }
   ],
   "source": [
    "# Executing the Agent\n",
    "agent_executor.invoke(\n",
    "    {\n",
    "        \"input\": \"What is the weather in London?\"\n",
    "    }\n",
    ")\n"
   ]
  },
  {
   "cell_type": "code",
   "execution_count": 35,
   "id": "13f0abca",
   "metadata": {},
   "outputs": [],
   "source": [
    "from langchain_core.messages import HumanMessage, AIMessage\n",
    "\n",
    "chat_history = [\n",
    "    HumanMessage(\n",
    "        content=\"Can I use LangGraph for agent runtimes?\"\n",
    "    ),\n",
    "    AIMessage(content=\"Yes!\")\n",
    "]"
   ]
  },
  {
   "cell_type": "code",
   "execution_count": 37,
   "id": "3be45749",
   "metadata": {},
   "outputs": [
    {
     "name": "stdout",
     "output_type": "stream",
     "text": [
      "\n",
      "\n",
      "\u001b[1m> Entering new AgentExecutor chain...\u001b[0m\n",
      "\u001b[32;1m\u001b[1;3m\n",
      "Invoking: `langgraph_search` with `{'query': 'agent runtimes'}`\n",
      "\n",
      "\n",
      "\u001b[0m\u001b[36;1m\u001b[1;3mmanagement console makes it easier to enforce consistency, monitor behavior, and ship updates safely — all without needing to re-deploy or touch code every time. You can:Discover available agents in the agent registryCreate different versions of your agent (“assistants”) in LangGraph platform, allowing you to reuse common agent architectures Leverage other agents as “Remote Graphs”, allowing you to create multi agent architectures that run in a distributed mannerFor companies like Qualtrics, centralizing agent management with LangGraph Platform has been critical to driving efficiency: \"The future of agentic AI is multi-vendor and AI agents must be built in an ecosystem. By using LangGraph Platform to build and manage our AI agents - Experience Agents - Qualtrics is able to design, deploy, and manage complex generative AI agent workflows with efficiency, speed, and scale.\" – Phil McKennan, VP of Strategy and Partnerships at QualtricsTry LangGraph Platform todayLangGraph Platform reduces time to production and enables better application experiences with a runtime that suits the workload and improves DevEx with well crafted APIs, built-in memory, and a Studio development environment. Today, LangGraph Platform is generally available. To get started, choose the deployment option that fits your team’s needs: Cloud (SaaS): Fastest way to get started, fully managed and easy deployment from within LangSmith. Available on our Plus plan and Enterprise plan. To get started, read the docs (Plus plan) or contact sales (Enterprise).Hybrid: SaaS control plane with self-hosted data plane — ideal for teams with sensitive data but still want more of a managed service. Available only on the Enterprise plan. To get started, contact salesFully Self-Hosted: Run the entire platform within your own infrastructure. No data leaves your VPC. Available on the Enterprise plan. To get started, contact sales.If you want to try out a basic version of our LangGraph server in your environment, you can also self-host on our Developer plan and get up to 100k nodes executed per month for free – great to give you exposure to LangGraph Platform and run hobbyist projects on your infra. To get started on the Developer tier, read the docs.Learn more about deployment options here and view pricing details. LangGraph Platform is the easiest way to develop, deploy, and manage long-running, stateful agents. It can be used independently from LangChain’s other products – LangChain (integrations), LangGraph (agent orchestration), and LangSmith (Evals and Observability), or stack together to provide an easy transition from the build phase to production.To learn more, visit the LangGraph Platform webpage. We can’t wait to see how far you can run with your agents.\n",
      "\n",
      "Today we’re excited to announce the general availability of LangGraph Platform — our purpose-built infrastructure and management layer for deploying and scaling long-running, stateful agents. Since our beta last June, nearly 400 companies have used LangGraph Platform to deploy their agents into production. Agent deployment is the next hard hurdle for shipping reliable agents, and LangGraph Platform dramatically lowers this barrier with:1-click deployment to go live in minutes, 30 API endpoints for designing custom user experiences that fit any interaction patternHorizontal scaling to handle bursty, long-running trafficA persistence layer to support memory, conversational history, and async collaboration with human-in-the-loop or multi-agent workflowsNative LangGraph Studio, the agent IDE, for easy debugging, visibility, and iterationRead on to learn more about what LangGraph Platform offers and which deployment option is right for you. If you're more of a visual learner, you can check out our video walkthrough here.The challenges of agent infrastructure – and how LangGraph Platform can helpOur team has the privilege of working with many of the most exciting companies building agents –  such as Klarna, Lovable, Replit, Clay, LinkedIn. Through close collaboration, we’ve come to believe that the challenges of running agents, at scale, in production are often unique relative to traditional apps:Many agents are long running. Like we’ve seen with deep research agents, agents that run in the background on a schedule or in response to environment triggers can take a long time to return a final output. These workflows can be prone to failures mid-task, so they need durable infrastructure to ensure task completion.Many agents rely on async collaboration. Agents need to act on inputs from unpredictable events, whether collaborating with a human to steer / approve an action or waiting on another agent. For example – will the human reply immediately, tomorrow, or not at all? Good infrastructure accounts for this chaos and preserves state throughout.Bursty. While not totally unique to agents, horizontally scaling infra to handle traffic spikes is challenging –  especially for tasks that run daily or on schedules. We want engineers to obsess over building the best agent architecture – not worry about infra. LangGraph Platform’s server suits these kinds of workloads at scale. Developers can just 1-click deploy their apps directly in the management console to get started.1-click deploy with our native GitHub integration — just select a repo, and ship! Accelerate agent development with visual workflowsBuilding great agents requires fast feedback loops. LangGraph Studio (included as part of LangGraph Platform) helps developers visualize and debug agent workflows in real time, with detailed visibility into agent trajectories and support for branching logic and retries. You can also test edge cases, inspect memory/state at each step, and quickly pinpoint where things go wrong. Instead of retrying things from scratch, built-in checkpointing and memory modules in LangGraph Platform make it easy to rewind, edit, and rerun failure points without frustration.Whether you’re using our pre-built agent templates for common agent workflows, or building from scratch, LangGraph Platform lets you scaffold your agentic apps quickly – going from an idea to production in hours. Centralize agent management across your orgAs agents get adopted across teams, managing them becomes a team sport. LangGraph Platform gives organizations a unified view of every agent in development or production — helping fellow team members iterate and scale across use cases. The enterprise tier also supports RBAC and workspaces, so that you can control access and sharing.The LangGraph Platform management console makes it easier to enforce consistency, monitor behavior, and ship updates safely — all without needing to re-deploy or touch code every time. You can:Discover available agents\n",
      "\n",
      "LangGraph Platform is now Generally Available: Deploy & manage long-running, stateful Agents\n",
      "\n",
      "\n",
      "\n",
      "\n",
      "\n",
      "\n",
      "\n",
      "\n",
      "\n",
      "\n",
      "\n",
      "\n",
      "\n",
      "\n",
      "\n",
      "\n",
      "\n",
      "\n",
      "\n",
      "\n",
      "\n",
      "\n",
      "\n",
      "\n",
      "\n",
      "\n",
      "\n",
      "\n",
      "\n",
      "\n",
      "\n",
      "\n",
      "\n",
      "\n",
      "\n",
      "\n",
      "\n",
      "\n",
      "\n",
      "\n",
      "\n",
      "\n",
      "\n",
      "\n",
      "\n",
      "\n",
      "\n",
      "\n",
      "\n",
      "\n",
      "Skip to content\n",
      "\n",
      "\n",
      "\n",
      "\n",
      "\n",
      "\n",
      "\n",
      "\n",
      "\n",
      "\n",
      "\n",
      "\n",
      "\n",
      "\n",
      "\n",
      "\n",
      "Case Studies\n",
      "\n",
      "\n",
      "\n",
      "\n",
      "In the Loop\n",
      "\n",
      "\n",
      "\n",
      "\n",
      "LangChain\n",
      "\n",
      "\n",
      "\n",
      "\n",
      "Docs\n",
      "\n",
      "\n",
      "\n",
      "\n",
      "Changelog\n",
      "\n",
      "\n",
      "\n",
      "\n",
      "\n",
      "Sign in\n",
      "Subscribe\n",
      "\n",
      "\n",
      "\n",
      "\n",
      "\n",
      "\n",
      "\n",
      "\n",
      "\n",
      "\n",
      "\n",
      "\n",
      "\n",
      "\n",
      "\n",
      "\n",
      "\n",
      "\n",
      "\n",
      "LangGraph Platform is now Generally Available: Deploy & manage long-running, stateful Agents\n",
      "LangGraph Platform, our infrastructure for deploying and managing agents at scale, is now generally available. Learn how to deploy\n",
      "\n",
      "4 min read\n",
      "May 14, 2025\n",
      "\n",
      "Join our newsletter\n",
      "Updates from the LangChain team and community\n",
      "\n",
      "\n",
      "Enter your email\n",
      "\n",
      "Subscribe\n",
      "\n",
      "Processing your application...\n",
      "Success! Please check your inbox and click the link to confirm your subscription.\n",
      "Sorry, something went wrong. Please try again.\n",
      "\n",
      "\n",
      "\n",
      "\n",
      "\n",
      "\n",
      "\n",
      "\n",
      "\n",
      "\n",
      "\n",
      "\n",
      "\n",
      "Sign up\n",
      "\n",
      "\n",
      "\n",
      "\n",
      "\n",
      "            © LangChain Blog 2025\u001b[0m\u001b[32;1m\u001b[1;3mLangGraph Platform is a purpose-built infrastructure and management layer for deploying and scaling long-running, stateful agents.  It offers 1-click deployment, horizontal scaling, a persistence layer for memory and history, and a Studio for debugging.  It's available in cloud, hybrid, and self-hosted options.  The platform centralizes agent management, allowing for consistency, monitoring, and safe updates without re-deployment.  It integrates with GitHub and offers various APIs for custom user experiences.  LangGraph Platform can be used independently or with other LangChain products.\n",
      "\u001b[0m\n",
      "\n",
      "\u001b[1m> Finished chain.\u001b[0m\n"
     ]
    },
    {
     "data": {
      "text/plain": [
       "{'chat_history': [HumanMessage(content='Can I use LangGraph for agent runtimes?', additional_kwargs={}, response_metadata={}),\n",
       "  AIMessage(content='Yes!', additional_kwargs={}, response_metadata={})],\n",
       " 'input': 'Tell me how',\n",
       " 'output': \"LangGraph Platform is a purpose-built infrastructure and management layer for deploying and scaling long-running, stateful agents.  It offers 1-click deployment, horizontal scaling, a persistence layer for memory and history, and a Studio for debugging.  It's available in cloud, hybrid, and self-hosted options.  The platform centralizes agent management, allowing for consistency, monitoring, and safe updates without re-deployment.  It integrates with GitHub and offers various APIs for custom user experiences.  LangGraph Platform can be used independently or with other LangChain products.\\n\"}"
      ]
     },
     "execution_count": 37,
     "metadata": {},
     "output_type": "execute_result"
    }
   ],
   "source": [
    "agent_executor.invoke(\n",
    "    {\n",
    "        \"chat_history\": chat_history, \n",
    "        \"input\": \"Tell me how\"\n",
    "    }\n",
    ")"
   ]
  },
  {
   "cell_type": "markdown",
   "id": "bd6775f3",
   "metadata": {},
   "source": [
    "{'chat_history': [HumanMessage(content='Can I use LangGraph for agent runtimes?', additional_kwargs={}, response_metadata={}),\n",
    "  AIMessage(content='Yes!', additional_kwargs={}, response_metadata={})],\n",
    " 'input': 'Tell me how',\n",
    " 'output': \"LangGraph Platform is a purpose-built infrastructure and management layer for deploying and scaling long-running, stateful agents.  It offers 1-click deployment, horizontal scaling, a persistence layer for memory and history, and a Studio for debugging.  It's available in cloud, hybrid, and self-hosted options.  The platform centralizes agent management, allowing for consistency, monitoring, and safe updates without re-deployment.  It integrates with GitHub and offers various APIs for custom user experiences.  LangGraph Platform can be used independently or with other LangChain products.\\n\"}"
   ]
  },
  {
   "cell_type": "markdown",
   "id": "f0c8c911",
   "metadata": {},
   "source": []
  }
 ],
 "metadata": {
  "kernelspec": {
   "display_name": "Langchain",
   "language": "python",
   "name": "python3"
  },
  "language_info": {
   "codemirror_mode": {
    "name": "ipython",
    "version": 3
   },
   "file_extension": ".py",
   "mimetype": "text/x-python",
   "name": "python",
   "nbconvert_exporter": "python",
   "pygments_lexer": "ipython3",
   "version": "3.13.2"
  }
 },
 "nbformat": 4,
 "nbformat_minor": 5
}
